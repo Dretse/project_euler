{
 "cells": [
  {
   "cell_type": "code",
   "execution_count": 1,
   "metadata": {},
   "outputs": [],
   "source": [
    "import numpy as np\n",
    "from time import time"
   ]
  },
  {
   "cell_type": "code",
   "execution_count": 65,
   "metadata": {},
   "outputs": [
    {
     "name": "stdout",
     "output_type": "stream",
     "text": [
      "True\n"
     ]
    }
   ],
   "source": [
    "def miller_rabin(n, k):\n",
    "    if n == 2:\n",
    "        return True\n",
    "    if n % 2 == 0:\n",
    "        return False\n",
    "\n",
    "    r, s = 0, n - 1\n",
    "    while s % 2 == 0:\n",
    "        r += 1\n",
    "        s //= 2\n",
    "    for _ in range(k):\n",
    "        a = np.random.randint(2, n - 1)\n",
    "        x = pow(a, s, n)\n",
    "        if x == 1 or x == n - 1:\n",
    "            continue\n",
    "        for _ in range(r - 1):\n",
    "            x = pow(x, 2, n)\n",
    "            if x == n - 1:\n",
    "                break\n",
    "        else:\n",
    "            return False\n",
    "    return True\n",
    "\n",
    "def Good_N(n, k):\n",
    "    L = [miller_rabin(n**2 + i, k) for i in [1, 3, 7, 9, 11, 13, 17, 19, 21, 23, 27] ]\n",
    "    Comp = [True, True, True, True, False, True, False, False, False, False, True]\n",
    "    return L==Comp\n",
    "\n",
    "\n",
    "print(Good_N(10, 5))\n",
    "\n"
   ]
  },
  {
   "cell_type": "code",
   "execution_count": 66,
   "metadata": {},
   "outputs": [
    {
     "name": "stdout",
     "output_type": "stream",
     "text": [
      "0 0 0 \t 10 10\n",
      "0 0 4 \t 315410 315420\n",
      "0 0 13 \t 927070 1242490\n",
      "0 0 40 \t 2525870 3768360\n",
      "0 2 10 \t 8146100 11914460\n",
      "0 4 49 \t 16755190 28669650\n",
      "0 11 0 \t 39313460 67983110\n",
      "0 28 52 \t 97387280 165370390\n",
      "0 34 58 \t 119571820 284942210\n",
      "0 35 28 \t 121288430 406230640\n",
      "0 37 51 \t 130116970 536347610\n",
      "0 40 27 \t 139985660 676333270\n",
      "676333270\n",
      "2589\n"
     ]
    }
   ],
   "source": [
    "t,s = time(), 0\n",
    "n_max = 150*(10**5)\n",
    "for n in range(1,n_max):\n",
    "    if(n%3!=0 and n%7!=0 and n%13!=0):\n",
    "        if(Good_N(10*n, 5)):\n",
    "            s+=10*n\n",
    "            x = int(time() - t)\n",
    "            print(x//3600, (x%3600)//60,  x%60 , \"  \\t\", 10*n, s)\n",
    "    if(n%(n_max//100)==0):\n",
    "        x = int(time() - t)\n",
    "        print(x//3600, (x%3600)//60,  x%60, '  \\t\\t\\t', n//(n_max//100), '%' )\n",
    "print(s)\n",
    "x = int(time() - t)\n",
    "print(x//3600, (x%3600)//60,  x%60)\n",
    "\n",
    "\n",
    "\n",
    "            "
   ]
  },
  {
   "cell_type": "code",
   "execution_count": null,
   "metadata": {},
   "outputs": [],
   "source": []
  }
 ],
 "metadata": {
  "kernelspec": {
   "display_name": "Python 3",
   "language": "python",
   "name": "python3"
  },
  "language_info": {
   "codemirror_mode": {
    "name": "ipython",
    "version": 3
   },
   "file_extension": ".py",
   "mimetype": "text/x-python",
   "name": "python",
   "nbconvert_exporter": "python",
   "pygments_lexer": "ipython3",
   "version": "3.7.4"
  }
 },
 "nbformat": 4,
 "nbformat_minor": 2
}
